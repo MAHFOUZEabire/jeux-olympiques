{
 "cells": [
  {
   "cell_type": "markdown",
   "metadata": {},
   "source": [
    "# P3. Exploration SQL"
   ]
  },
  {
   "cell_type": "markdown",
   "metadata": {},
   "source": [
    "Le répertoire `/db` contient une base de données SQLite3 `olympics.sqbpro` reprenant les résultats des épreuves des jeux d'été pour une période donnée (cf P1 & P2).\n",
    "\n",
    "On s'intéresse dans le cadre de cette partie P3 à l'exploration via SQL des résultats des JO d'été (table : `summer`)."
   ]
  },
  {
   "cell_type": "markdown",
   "metadata": {},
   "source": [
    "---"
   ]
  },
  {
   "cell_type": "markdown",
   "metadata": {},
   "source": [
    "### Question 1: Qu'est ce que SQL ?"
   ]
  },
  {
   "cell_type": "markdown",
   "metadata": {},
   "source": [
    "le langage SQL (Structured Query Language) est un langage informatique utilisé pour exploiter des bases de données. Il permet de façon générale la définition, la manipulation et le contrôle de sécurité de données"
   ]
  },
  {
   "cell_type": "markdown",
   "metadata": {},
   "source": [
    "### Question 2: Qu'est ce que SQLite 3 ? Avantages et/ou Inconvénients ?"
   ]
  },
  {
   "cell_type": "markdown",
   "metadata": {},
   "source": [
    "SQLite est un système de base de données ou une bibliothèque proposant un moteur de base de données relationnelles. Il repose sur une écriture en C, un langage de programmation impératif, et sur une accessibilité via le langage SQL (Structured Query Language).\n",
    "\n",
    "Avantages:\n",
    "- SQLite présente la particularité d'être directement intégré aux programmes et dans l'application utilisant sa bibliothèque logicielle alors que ses - -concurrents comme MySQL reproduisent de leur côté le schéma classique client-serveur.\n",
    "- Avec SQLite, la base de données est intégralement stockée dans un fichier indépendant du logiciel.\n",
    "\n",
    "Inconvénients:\n",
    "- écritures atomiques (avec SQLite, un seul processus peut écrire dans la base)\n",
    "- pas de réplication(La réplication consiste à créer des copies d'un serveur de base de données MySQL de façon à pouvoir répartir la charge (load-balancing) et ainsi pouvoir répondre à de fortes demandes, sur les sites à grande audience (comme facebook par exemple))."
   ]
  },
  {
   "cell_type": "markdown",
   "metadata": {},
   "source": [
    "### Question 3: Donner des exemples d'autres formats de fichier pouvant être utilisé pour fournir des données similaires "
   ]
  },
  {
   "cell_type": "markdown",
   "metadata": {},
   "source": [
    "les formats CSV, XML et JSON. Ces trois formats se base sur un fichier texte, c'est-à-dire qu'ils représentent les données par une suite de caractères. Pour les trois formats, on peut distinguer deux types d' information dans les fichiers : les données en tant que telles et des caractères permettant de stocker la structure de ces données. La grande différence entre ces trois formats est la manière avec laquelle les données sont structurées.\n",
    "\n"
   ]
  },
  {
   "cell_type": "markdown",
   "metadata": {},
   "source": [
    "### Question 4: Quel est le type (texte ou binaire) du fichier base de données SQLite3?"
   ]
  },
  {
   "cell_type": "markdown",
   "metadata": {},
   "source": [
    "Le fichier `olympics.sqbpro` est un fichier Binaire"
   ]
  },
  {
   "cell_type": "markdown",
   "metadata": {},
   "source": [
    "### Question 5: Donner les caractéristiques de la table `summer` ? "
   ]
  },
  {
   "cell_type": "markdown",
   "metadata": {},
   "source": [
    "![R5](./snaps/R5.png)"
   ]
  },
  {
   "cell_type": "markdown",
   "metadata": {},
   "source": [
    "---\n",
    "### Question 6: Combien d'enregistrements possède la table `summer` ?"
   ]
  },
  {
   "cell_type": "markdown",
   "metadata": {},
   "source": [
    "```sql\n",
    "SELECT count(*)\n",
    "FROM summer;\n",
    "```\n",
    "\n",
    "Résultat: 31165"
   ]
  },
  {
   "cell_type": "markdown",
   "metadata": {},
   "source": [
    "Copie écran DB Browser for SQLite\n",
    "![R6](./snaps/R6.png)"
   ]
  },
  {
   "cell_type": "markdown",
   "metadata": {},
   "source": [
    "### Question 7: Quelle période des JO couvre ce fichier de résultats ?"
   ]
  },
  {
   "cell_type": "markdown",
   "metadata": {},
   "source": [
    "```SQL\n",
    "SELECT  DISTINCT Year\n",
    "FROM summer;\n",
    "\n",
    "Résultat: 1896-2012\n"
   ]
  },
  {
   "cell_type": "markdown",
   "metadata": {},
   "source": [
    "![R7](./snaps/R7.png)"
   ]
  },
  {
   "cell_type": "markdown",
   "metadata": {},
   "source": [
    "### Question 8: Indiquer les années et villes des olympiades ? "
   ]
  },
  {
   "cell_type": "markdown",
   "metadata": {},
   "source": [
    "```SQL\n",
    "-- Question 8  Indiquer les années et villes des olympiades ?\n",
    "SELECT  DISTINCT Year, City\n",
    "FROM summer;\n",
    "```"
   ]
  },
  {
   "cell_type": "markdown",
   "metadata": {},
   "source": [
    "Copie écran DB Browser for SQLite\n",
    "![R8](./snaps/R8.png)"
   ]
  },
  {
   "cell_type": "markdown",
   "metadata": {},
   "source": [
    "--- "
   ]
  },
  {
   "cell_type": "markdown",
   "metadata": {},
   "source": [
    "## Questions collectives "
   ]
  },
  {
   "cell_type": "markdown",
   "metadata": {},
   "source": [
    "### Q1 -Combien la France a remporté de médailles d’or aux JO de 1984 ? (Christophe)\n"
   ]
  },
  {
   "cell_type": "markdown",
   "metadata": {},
   "source": [
    "```SQL\n",
    "SELECT count(*)\n",
    "FROM summer\n",
    "WHERE Year=1984 AND Country='FRA' AND Medal='Gold'\n",
    "```"
   ]
  },
  {
   "cell_type": "markdown",
   "metadata": {},
   "source": [
    "![Q&R1](./snaps/Q1.png)"
   ]
  },
  {
   "cell_type": "markdown",
   "metadata": {},
   "source": [
    "### Q2-Quel pays a le plus d'athlète? (Mathias)"
   ]
  },
  {
   "cell_type": "markdown",
   "metadata": {},
   "source": [
    "```SQL\n",
    "SELECT DISTINCT Athlete, Country, count(Athlete) as nAthlete\n",
    "FROM summer\n",
    "GROUP BY Athlete, Country\n",
    "ORDER BY nAthlete DESC\n",
    "```"
   ]
  },
  {
   "cell_type": "markdown",
   "metadata": {},
   "source": [
    "Copie écran DB Browser for SQLite\n"
   ]
  },
  {
   "cell_type": "markdown",
   "metadata": {},
   "source": [
    "![Q&R2](./snaps/Q2.png)"
   ]
  },
  {
   "cell_type": "markdown",
   "metadata": {},
   "source": [
    "### Q3.En 2012 combien de médailles le Japon a t-il gagné? (Théo)"
   ]
  },
  {
   "cell_type": "markdown",
   "metadata": {},
   "source": [
    "```SQL\n",
    "SELECT count(Medal) \n",
    "FROM summer\n",
    "WHERE Year=2012 and Country='JPN'\n",
    "```\n"
   ]
  },
  {
   "cell_type": "markdown",
   "metadata": {},
   "source": [
    "Copie écran DB Browser for SQLite\n",
    "![Q&R3](./snaps/Q3.png)"
   ]
  },
  {
   "cell_type": "markdown",
   "metadata": {},
   "source": [
    "### Q4: Dans quels différents sports les Grecs ont-ils gagné des médailles? (corentin L)"
   ]
  },
  {
   "cell_type": "markdown",
   "metadata": {},
   "source": [
    "```SQL\n",
    "SELECT Sport,Medal\n",
    "FROM summer\n",
    "WHERE Country='GRE'\n",
    "GROUP BY Sport\n",
    "````"
   ]
  },
  {
   "cell_type": "markdown",
   "metadata": {},
   "source": [
    "Copie écran DB Browser for SQLite\n",
    "![Q&R4](./snaps/Q4.png)\n"
   ]
  },
  {
   "cell_type": "markdown",
   "metadata": {},
   "source": [
    "### Q5.Quel pays a remporté le plus de médailles d’or ? (Philippe)"
   ]
  },
  {
   "cell_type": "markdown",
   "metadata": {},
   "source": [
    "```SQL\n",
    "SELECT Country, count(Medal='Gold')as nMedal\n",
    "FROM summer\n",
    "GROUP BY City,Medal\n",
    "ORDER BY nMedal DESC\n",
    "````"
   ]
  },
  {
   "cell_type": "markdown",
   "metadata": {},
   "source": [
    "Copie écran DB Browser for SQLite\n",
    "![Q&R5](./snaps/Q5.png)"
   ]
  },
  {
   "cell_type": "markdown",
   "metadata": {},
   "source": [
    "### Q6.Combien de villes différentes ont accueilli les JO d’été entre 1896 et 2012 ? (Yoann)"
   ]
  },
  {
   "cell_type": "markdown",
   "metadata": {},
   "source": [
    "```SQL\n",
    "SELECT DISTINCT City\n",
    "FROM summer\n",
    "WHERE YEAR BETWEEN 1896 and 2012\n",
    "````\n"
   ]
  },
  {
   "cell_type": "markdown",
   "metadata": {},
   "source": [
    "Copie écran DB Browser for SQLite\n",
    "![Q&R6](./snaps/Q6.png)"
   ]
  },
  {
   "cell_type": "markdown",
   "metadata": {},
   "source": [
    "### Q7.Combien de femmes ont obtenu  une médaille d’or ? (Lamia)"
   ]
  },
  {
   "cell_type": "markdown",
   "metadata": {},
   "source": [
    "```SQL\n",
    "SELECT DISTINCT count(Gender)\n",
    "FROM summer\n",
    "WHERE Medal='Gold' and Gender='Women'\n",
    "````"
   ]
  },
  {
   "cell_type": "markdown",
   "metadata": {},
   "source": [
    "Copie écran DB Browser for SQLite\n",
    "![Q&R7](./snaps/Q7.png)"
   ]
  },
  {
   "cell_type": "markdown",
   "metadata": {},
   "source": [
    "### 8.Combien de sports différents sont représentés par année ? (joris)"
   ]
  },
  {
   "cell_type": "markdown",
   "metadata": {},
   "source": [
    "```SQL\n",
    "SELECT Year, count(DISTINCT Sport)\n",
    "FROM summer\n",
    "GROUP BY Year\n",
    "````"
   ]
  },
  {
   "cell_type": "markdown",
   "metadata": {},
   "source": [
    "Copie écran DB Browser for SQLite\n",
    "![Q&R8](./snaps/Q8.png)"
   ]
  },
  {
   "cell_type": "markdown",
   "metadata": {},
   "source": [
    "### 9.Combien de fois Londres a accueilli les J.O ? (Marvin)"
   ]
  },
  {
   "cell_type": "markdown",
   "metadata": {},
   "source": [
    "```SQL\n",
    "SELECT DISTINCT Year, City\n",
    "FROM summer\n",
    "WHERE City='London'\n",
    "````"
   ]
  },
  {
   "cell_type": "markdown",
   "metadata": {},
   "source": [
    "Copie écran DB Browser for SQLite\n",
    "![Q&R9](./snaps/Q9.png)"
   ]
  },
  {
   "cell_type": "markdown",
   "metadata": {},
   "source": [
    "### 10.Combien de joueuses comptait la sélection brésilienne de volley-ball médaillée d’or aux J.O de 2012 ? (Corentin P)\n"
   ]
  },
  {
   "cell_type": "markdown",
   "metadata": {},
   "source": [
    "```SQL\n",
    "SELECT country,Gender,Sport,Year, count(Gender) \n",
    "FROM summer\n",
    "WHERE Gender='Women' AND Country='BRA' AND Sport='Volleyball' AND Medal='Gold' AND Year=2012\n",
    "````"
   ]
  },
  {
   "cell_type": "markdown",
   "metadata": {},
   "source": [
    "Copie écran DB Browser for SQLite\n",
    "![Q&R10](./snaps/Q10.png)"
   ]
  },
  {
   "cell_type": "markdown",
   "metadata": {},
   "source": [
    "### Q11.Combien de femmes françaises ont participé en 2012 , quel sont leurs médailles ? (izak)"
   ]
  },
  {
   "cell_type": "markdown",
   "metadata": {},
   "source": [
    "```SQL\n",
    "SELECT Medal, count(Gender) \n",
    "FROM summer\n",
    "WHERE Gender='Women' AND Country='FRA' AND Year=2012\n",
    "GROUP BY Medal\n",
    "````"
   ]
  },
  {
   "cell_type": "markdown",
   "metadata": {},
   "source": [
    "Copie écran DB Browser for SQLite\n",
    "![Q&R11](./snaps/Q11.png)"
   ]
  },
  {
   "cell_type": "markdown",
   "metadata": {},
   "source": [
    "### Q12.Quel est l’athlète qui a remporté le plus de médailles d’or ? (mayel)"
   ]
  },
  {
   "cell_type": "markdown",
   "metadata": {},
   "source": [
    "```SQL\n",
    "SELECT Athlete, count(Medal) as nMedalGold\n",
    "FROM summer\n",
    "WHERE Medal='Gold'\n",
    "GROUP BY Athlete\n",
    "ORDER BY nMedalGold DESC\n",
    "````\n"
   ]
  },
  {
   "cell_type": "markdown",
   "metadata": {},
   "source": [
    "Copie écran DB Browser for SQLite\n",
    "![Q&R12](./snaps/Q12.png)"
   ]
  },
  {
   "cell_type": "markdown",
   "metadata": {},
   "source": [
    "### Q13. Est-ce que la France à déjà gagné une médaille d’or au cricket ? (jordan)"
   ]
  },
  {
   "cell_type": "markdown",
   "metadata": {},
   "source": [
    "```SQL\n",
    "SELECT count(Medal)\n",
    "FROM summer\n",
    "WHERE Medal='Gold' AND Country='FRA' AND Sport='Cricket'\n",
    "````"
   ]
  },
  {
   "cell_type": "markdown",
   "metadata": {},
   "source": [
    "Copie écran DB Browser for SQLite\n",
    "![Q&R13](./snaps/Q13.png)"
   ]
  },
  {
   "cell_type": "markdown",
   "metadata": {},
   "source": [
    "### Q14.Combien de médaillés ont un nom de famille de plus de 6 lettres en excluant les années paires ? (jonathan"
   ]
  },
  {
   "cell_type": "markdown",
   "metadata": {},
   "source": [
    "```SQL\n",
    "SELECT Athlete, count(Medal)\n",
    "FROM summer\n",
    "WHERE YEAR%2<>0 AND length(UPPER(Athlete))>6\n",
    "````"
   ]
  },
  {
   "cell_type": "markdown",
   "metadata": {},
   "source": [
    "Copie écran DB Browser for SQLite\n",
    "![Q&R14](./snaps/Q14.png)"
   ]
  },
  {
   "cell_type": "markdown",
   "metadata": {},
   "source": [
    "### Q15.Le nombre de médailles d’or par pays en 2012 (Maëlle)"
   ]
  },
  {
   "cell_type": "markdown",
   "metadata": {},
   "source": [
    "```SQL\n",
    "SELECT Country,Medal,count(Medal) as nMedalGold\n",
    "FROM summer\n",
    "WHERE Medal='Gold' AND Year=2012\n",
    "GROUP BY Country\n",
    "````\n"
   ]
  },
  {
   "cell_type": "markdown",
   "metadata": {},
   "source": [
    "Copie écran DB Browser for SQLite\n",
    "![Q&R15](./snaps/Q15.png)"
   ]
  },
  {
   "cell_type": "markdown",
   "metadata": {},
   "source": [
    "### Q16.Combien de femmes ont remporté des médailles ? (Alicia)"
   ]
  },
  {
   "cell_type": "markdown",
   "metadata": {},
   "source": [
    "```SQL\n",
    "SELECT Count(DISTINCT Athlete)\n",
    "FROM summer\n",
    "WHERE Gender='Women'\n",
    "````"
   ]
  },
  {
   "cell_type": "markdown",
   "metadata": {},
   "source": [
    "Copie écran DB Browser for SQLite\n",
    "![Q&R16](./snaps/Q16.png)"
   ]
  },
  {
   "cell_type": "markdown",
   "metadata": {},
   "source": [
    "### Q17.Entre 1984 et 2012 combien de médailles a gagné la France ? (Abire)"
   ]
  },
  {
   "cell_type": "markdown",
   "metadata": {},
   "source": [
    "```SQL\n",
    "SELECT Count(Medal)\n",
    "FROM summer\n",
    "WHERE Year BETWEEN 1984 AND 2012 AND Country='FRA'\n",
    "````"
   ]
  },
  {
   "cell_type": "markdown",
   "metadata": {},
   "source": [
    "Copie écran DB Browser for SQLite\n",
    "![Q&R17](./snaps/Q17.png)"
   ]
  },
  {
   "cell_type": "markdown",
   "metadata": {},
   "source": [
    "Fin"
   ]
  }
 ],
 "metadata": {
  "kernelspec": {
   "display_name": "Python 3",
   "language": "python",
   "name": "python3"
  },
  "language_info": {
   "codemirror_mode": {
    "name": "ipython",
    "version": 3
   },
   "file_extension": ".py",
   "mimetype": "text/x-python",
   "name": "python",
   "nbconvert_exporter": "python",
   "pygments_lexer": "ipython3",
   "version": "3.8.6"
  }
 },
 "nbformat": 4,
 "nbformat_minor": 4
}
